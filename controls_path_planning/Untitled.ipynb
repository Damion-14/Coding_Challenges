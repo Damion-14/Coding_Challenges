{
 "cells": [
  {
   "cell_type": "code",
   "execution_count": 1,
   "id": "5e4966e0-bd98-4360-96a7-72c6802b10a8",
   "metadata": {},
   "outputs": [
    {
     "name": "stdout",
     "output_type": "stream",
     "text": [
      "A=True, B=True, C=True, D=True => X=True\n",
      "A=True, B=True, C=True, D=False => X=True\n",
      "A=True, B=True, C=False, D=True => X=True\n",
      "A=True, B=True, C=False, D=False => X=True\n",
      "A=True, B=False, C=True, D=True => X=True\n",
      "A=True, B=False, C=True, D=False => X=True\n",
      "A=True, B=False, C=False, D=True => X=True\n",
      "A=True, B=False, C=False, D=False => X=True\n",
      "A=False, B=True, C=True, D=True => X=True\n",
      "A=False, B=True, C=True, D=False => X=True\n",
      "A=False, B=True, C=False, D=True => X=True\n",
      "A=False, B=True, C=False, D=False => X=True\n",
      "A=False, B=False, C=True, D=True => X=True\n",
      "A=False, B=False, C=True, D=False => X=True\n",
      "A=False, B=False, C=False, D=True => X=True\n",
      "A=False, B=False, C=False, D=False => X=True\n"
     ]
    }
   ],
   "source": [
    "# Define the variables A, B, C, and D\n",
    "A_values = [True, False]\n",
    "B_values = [True, False]\n",
    "C_values = [True, False]\n",
    "D_values = [True, False]\n",
    "\n",
    "# Loop through all possible combinations\n",
    "for A in A_values:\n",
    "    for B in B_values:\n",
    "        for C in C_values:\n",
    "            for D in D_values:\n",
    "                X = C or A or not (A and B and not C and not D)\n",
    "                print(f'A={A}, B={B}, C={C}, D={D} => X={X}')\n"
   ]
  },
  {
   "cell_type": "code",
   "execution_count": null,
   "id": "e9ef9ef4-5de7-4a7b-83d9-0b82b51249a7",
   "metadata": {},
   "outputs": [],
   "source": []
  }
 ],
 "metadata": {
  "kernelspec": {
   "display_name": "Python 3 (ipykernel)",
   "language": "python",
   "name": "python3"
  },
  "language_info": {
   "codemirror_mode": {
    "name": "ipython",
    "version": 3
   },
   "file_extension": ".py",
   "mimetype": "text/x-python",
   "name": "python",
   "nbconvert_exporter": "python",
   "pygments_lexer": "ipython3",
   "version": "3.10.9"
  }
 },
 "nbformat": 4,
 "nbformat_minor": 5
}
